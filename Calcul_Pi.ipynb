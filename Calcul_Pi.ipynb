{
 "cells": [
  {
   "cell_type": "markdown",
   "id": "453ec416",
   "metadata": {},
   "source": [
    "## Version  itérative"
   ]
  },
  {
   "cell_type": "code",
   "execution_count": 1,
   "id": "3ed30f19",
   "metadata": {},
   "outputs": [],
   "source": [
    "import numpy as np\n",
    "import time\n",
    "def update_Pi(K, L, Pi, lambda_val, nb_iter):\n",
    "    max_ = np.trace(K@Pi.T@L@Pi)\n",
    "    max_pi = Pi\n",
    "    \n",
    "    for i in range(nb_iter):\n",
    "        tempPi = np.random.permutation(np.eye(K.shape[0])) #Changement de \"randint\" par \"permutation\" pour générer les permutions aleatoires\n",
    "        tr = np.trace(K@tempPi.T@L@Pi)\n",
    "        \n",
    "        if tr > max_:\n",
    "            max_ = tr\n",
    "            max_pi = tempPi\n",
    "    \n",
    "    updated_pi = (1 - lambda_val) * Pi + lambda_val * max_pi\n",
    "    \n",
    "    return updated_pi"
   ]
  },
  {
   "cell_type": "code",
   "execution_count": 7,
   "id": "0ce31951",
   "metadata": {},
   "outputs": [
    {
     "name": "stdout",
     "output_type": "stream",
     "text": [
      "Pi = \n",
      "\n",
      "[[0. 0. 1.]\n",
      " [1. 0. 0.]\n",
      " [0. 1. 0.]]\n",
      "Temps d'execution :  8.767366409301758 ms\n",
      "K permutations : \n",
      "[[0. 0. 1.]\n",
      " [1. 1. 0.]\n",
      " [1. 1. 0.]]\n",
      "L : \n",
      "[[0 0 1]\n",
      " [1 1 0]\n",
      " [1 1 0]]\n",
      "La trace maximale =======>  2.75\n"
     ]
    }
   ],
   "source": [
    "K = np.array([[1, 1, 0], [1, 1, 0], [0, 0, 1]])\n",
    "L = np.array([[0, 0, 1], [1, 1, 0], [1, 1, 0]])\n",
    "Pi = np.eye(K.shape[0]) \n",
    "start = time.time()\n",
    "for i in range(10):\n",
    "    Pi = update_Pi(K, L, Pi, .5, 20)\n",
    "end = time.time()\n",
    "\n",
    "print(\"Pi = \\n\")\n",
    "print(np.round(Pi))\n",
    "\n",
    "print(\"Temps d'execution : \",(end-start) * 10**3, \"ms\")\n",
    "print('K permutations : ')\n",
    "print(np.round(Pi@K))\n",
    "\n",
    "print('L : ')\n",
    "print(L)\n",
    "\n",
    "print(\"La trace maximale =======> \", np.trace(K @ Pi.T @ L @ Pi))"
   ]
  },
  {
   "cell_type": "code",
   "execution_count": 3,
   "id": "5cc7fd20",
   "metadata": {},
   "outputs": [
    {
     "name": "stdout",
     "output_type": "stream",
     "text": [
      "Pi = \n",
      "\n",
      "[[0. 0. 1.]\n",
      " [0. 1. 0.]\n",
      " [1. 0. 0.]]\n",
      "Temps d'execution :  13.980627059936523 ms\n",
      "K permutations : \n",
      "[[0. 1. 1.]\n",
      " [1. 1. 0.]\n",
      " [1. 1. 0.]]\n",
      "L : \n",
      "[[0 1 1]\n",
      " [1 1 0]\n",
      " [1 1 0]]\n",
      "La trace maximale =======>  3.7789982262662942\n"
     ]
    }
   ],
   "source": [
    "K = np.array([[1, 1, 0], [1, 1, 0], [0, 1, 1]])\n",
    "L = np.array([[0, 1, 1], [1, 1, 0], [1, 1, 0]])\n",
    "Pi = np.eye(K.shape[0]) \n",
    "start = time.time()\n",
    "for i in range(10):\n",
    "    Pi = update_Pi(K, L, Pi, .7, 20)\n",
    "end = time.time()\n",
    "\n",
    "print(\"Pi = \\n\")\n",
    "print(np.round(Pi))\n",
    "\n",
    "print(\"Temps d'execution : \",(end-start) * 10**3, \"ms\")\n",
    "print('K permutations : ')\n",
    "print(np.round(Pi@K))\n",
    "print('L : ')\n",
    "print(L)\n",
    "\n",
    "print(\"La trace maximale =======> \", np.trace(K @ Pi.T @ L @ Pi))"
   ]
  },
  {
   "cell_type": "code",
   "execution_count": 4,
   "id": "087c0167",
   "metadata": {
    "scrolled": true
   },
   "outputs": [
    {
     "name": "stdout",
     "output_type": "stream",
     "text": [
      "Pi = \n",
      "\n",
      "[[0. 0. 0. 0.]\n",
      " [0. 0. 0. 0.]\n",
      " [0. 0. 0. 0.]\n",
      " [0. 0. 0. 0.]]\n",
      "Temps d'execution :  30.55882453918457 ms\n",
      "K permutations : \n",
      "[[0. 0. 1. 1.]\n",
      " [0. 0. 1. 1.]\n",
      " [1. 1. 0. 0.]\n",
      " [1. 1. 0. 0.]]\n",
      "L : \n",
      "[[0 0 1 1]\n",
      " [0 0 1 1]\n",
      " [1 1 0 0]\n",
      " [1 1 0 0]]\n",
      "La trace maximale =======>  3.7489912148004336\n"
     ]
    }
   ],
   "source": [
    "K = np.array([[1, 1, 0, 0], [1, 1, 0, 0], [0, 0, 1, 1], [0, 0, 1, 1]])\n",
    "L = np.array([[0, 0, 1, 1], [0, 0, 1, 1], [1, 1, 0, 0], [1, 1, 0, 0]])\n",
    "Pi = np.eye(K.shape[0]) \n",
    "start = time.time()\n",
    "for i in range(10):\n",
    "    Pi = update_Pi(K, L, Pi, .4, 100)\n",
    "end = time.time()\n",
    "\n",
    "print(\"Pi = \\n\")\n",
    "print(np.round(Pi))\n",
    "\n",
    "print(\"Temps d'execution : \",(end-start) * 10**3, \"ms\")\n",
    "print('K permutations : ')\n",
    "print(np.round(Pi@K))\n",
    "print('L : ')\n",
    "print(L)\n",
    "\n",
    "print(\"La trace maximale =======> \", np.trace(K @ Pi.T @ L @ Pi))"
   ]
  },
  {
   "cell_type": "markdown",
   "id": "ba4939f9",
   "metadata": {},
   "source": [
    "# Version avec \"linear_sum_assignment\" de SciPy"
   ]
  },
  {
   "cell_type": "code",
   "execution_count": 5,
   "id": "96765202",
   "metadata": {},
   "outputs": [],
   "source": [
    "from scipy.optimize import linear_sum_assignment\n",
    "\n",
    "def update_Pi_lsa(K, L, Pi, lambda_val):\n",
    "    \n",
    "    l_ind, c_ind = linear_sum_assignment(-K@Pi@L.T)\n",
    "    max_pi = np.zeros_like(K)\n",
    "    max_pi[l_ind, c_ind] = 1\n",
    "    \n",
    "    updated_pi = (1 - lambda_val) * Pi + lambda_val * max_pi.T\n",
    "    \n",
    "    return updated_pi\n"
   ]
  },
  {
   "cell_type": "code",
   "execution_count": 8,
   "id": "a3fe7005",
   "metadata": {
    "scrolled": true
   },
   "outputs": [
    {
     "name": "stdout",
     "output_type": "stream",
     "text": [
      "Pi = \n",
      "\n",
      "[[0. 0. 1.]\n",
      " [1. 0. 0.]\n",
      " [0. 1. 0.]]\n",
      "Temps d'execution :  1.9917488098144531 ms\n",
      "K permutations : \n",
      "[[0. 0. 1.]\n",
      " [1. 1. 0.]\n",
      " [1. 1. 0.]]\n",
      "L : \n",
      "[[0 0 1]\n",
      " [1 1 0]\n",
      " [1 1 0]]\n",
      "La trace maximale =======>  2.816326297059277\n"
     ]
    }
   ],
   "source": [
    "K = np.array([[1, 1, 0], [1, 1, 0], [0, 0, 1]])\n",
    "L = np.array([[0, 0, 1], [1, 1, 0], [1, 1, 0]])\n",
    "Pi = np.eye(K.shape[0]) \n",
    "start = time.time()\n",
    "for i in range(20):\n",
    "    Pi = update_Pi_lsa(K, L, Pi, .5)\n",
    "    #Pi = Pi.T\n",
    "end = time.time()\n",
    "\n",
    "print(\"Pi = \\n\")\n",
    "print(np.round(Pi))\n",
    "\n",
    "print(\"Temps d'execution : \",(end-start) * 10**3, \"ms\")\n",
    "print('K permutations : ')\n",
    "print(np.round((Pi@K)))\n",
    "\n",
    "print('L : ')\n",
    "print(L)\n",
    "\n",
    "print(\"La trace maximale =======> \", np.trace(K @ Pi.T @ L @ Pi))"
   ]
  },
  {
   "cell_type": "code",
   "execution_count": 109,
   "id": "404994ed",
   "metadata": {},
   "outputs": [
    {
     "name": "stdout",
     "output_type": "stream",
     "text": [
      "Pi = \n",
      "\n",
      "[[0. 0. 1.]\n",
      " [1. 0. 0.]\n",
      " [0. 1. 0.]]\n",
      "Temps d'execution :  0.0 ms\n",
      "K permutations : \n",
      "[[0. 1. 1.]\n",
      " [1. 1. 0.]\n",
      " [1. 1. 0.]]\n",
      "L : \n",
      "[[0 1 1]\n",
      " [1 1 0]\n",
      " [1 1 0]]\n",
      "La trace maximale =======>  3.7775611877441406\n"
     ]
    }
   ],
   "source": [
    "K = np.array([[1, 1, 0], [1, 1, 0], [0, 1, 1]])\n",
    "L = np.array([[0, 1, 1], [1, 1, 0], [1, 1, 0]])\n",
    "Pi = np.eye(K.shape[0]) \n",
    "start = time.time()\n",
    "for i in range(10):\n",
    "    Pi = update_Pi_lsa(K, L, Pi, .5)\n",
    "    #Pi = Pi.T\n",
    "end = time.time()\n",
    "\n",
    "print(\"Pi = \\n\")\n",
    "print(np.round(Pi))\n",
    "\n",
    "print(\"Temps d'execution : \",(end-start) * 10**3, \"ms\")\n",
    "print('K permutations : ')\n",
    "print(np.round(Pi@K))\n",
    "print('L : ')\n",
    "print(L)\n",
    "\n",
    "print(\"La trace maximale =======> \", np.trace(K @ Pi.T @ L @ Pi))"
   ]
  },
  {
   "cell_type": "code",
   "execution_count": 110,
   "id": "3a5782b6",
   "metadata": {},
   "outputs": [
    {
     "name": "stdout",
     "output_type": "stream",
     "text": [
      "Pi = \n",
      "\n",
      "[[0. 0. 1. 0.]\n",
      " [0. 0. 0. 1.]\n",
      " [1. 0. 0. 0.]\n",
      " [0. 1. 0. 0.]]\n",
      "Temps d'execution :  6.521463394165039 ms\n",
      "K permutations : \n",
      "[[0. 0. 1. 1.]\n",
      " [0. 0. 1. 1.]\n",
      " [1. 1. 0. 0.]\n",
      " [1. 1. 0. 0.]]\n",
      "L : \n",
      "[[0 0 1 1]\n",
      " [0 0 1 1]\n",
      " [1 1 0 0]\n",
      " [1 1 0 0]]\n",
      "La trace maximale =======>  3.748991214800433\n"
     ]
    }
   ],
   "source": [
    "K = np.array([[1, 1, 0, 0], [1, 1, 0, 0], [0, 0, 1, 1], [0, 0, 1, 1]])\n",
    "L = np.array([[0, 0, 1, 1], [0, 0, 1, 1], [1, 1, 0, 0], [1, 1, 0, 0]])\n",
    "Pi = np.eye(K.shape[0]) \n",
    "start = time.time()\n",
    "for i in range(10):\n",
    "    Pi = update_Pi_lsa(K, L, Pi, .4)\n",
    "    #Pi = Pi.T\n",
    "end = time.time()\n",
    "\n",
    "print(\"Pi = \\n\")\n",
    "print(np.round(Pi))\n",
    "\n",
    "print(\"Temps d'execution : \",(end-start) * 10**3, \"ms\")\n",
    "print('K permutations : ')\n",
    "print(np.round(Pi@K))\n",
    "print('L : ')\n",
    "print(L)\n",
    "\n",
    "print(\"La trace maximale =======> \", np.trace(K @ Pi.T @ L @ Pi))"
   ]
  },
  {
   "cell_type": "code",
   "execution_count": null,
   "id": "1aa10c61",
   "metadata": {},
   "outputs": [],
   "source": []
  },
  {
   "cell_type": "code",
   "execution_count": null,
   "id": "d3ad4b96",
   "metadata": {},
   "outputs": [],
   "source": []
  }
 ],
 "metadata": {
  "kernelspec": {
   "display_name": "Python 3 (ipykernel)",
   "language": "python",
   "name": "python3"
  },
  "language_info": {
   "codemirror_mode": {
    "name": "ipython",
    "version": 3
   },
   "file_extension": ".py",
   "mimetype": "text/x-python",
   "name": "python",
   "nbconvert_exporter": "python",
   "pygments_lexer": "ipython3",
   "version": "3.10.11"
  }
 },
 "nbformat": 4,
 "nbformat_minor": 5
}
